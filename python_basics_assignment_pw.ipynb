{
  "nbformat": 4,
  "nbformat_minor": 0,
  "metadata": {
    "colab": {
      "provenance": [],
      "authorship_tag": "ABX9TyPL8fhS+rm5xH3RFwdtCp6J",
      "include_colab_link": true
    },
    "kernelspec": {
      "name": "python3",
      "display_name": "Python 3"
    },
    "language_info": {
      "name": "python"
    }
  },
  "cells": [
    {
      "cell_type": "markdown",
      "metadata": {
        "id": "view-in-github",
        "colab_type": "text"
      },
      "source": [
        "<a href=\"https://colab.research.google.com/github/kashifashaik-002/python-basics-assignment/blob/main/python_basics_assignment_pw.ipynb\" target=\"_parent\"><img src=\"https://colab.research.google.com/assets/colab-badge.svg\" alt=\"Open In Colab\"/></a>"
      ]
    },
    {
      "cell_type": "code",
      "execution_count": null,
      "metadata": {
        "id": "wa3vuEEAqyUh"
      },
      "outputs": [],
      "source": []
    },
    {
      "cell_type": "markdown",
      "source": [],
      "metadata": {
        "id": "vaxK_rvGqzBu"
      }
    },
    {
      "cell_type": "markdown",
      "source": [
        "# 1)Explain the key features of Python that make it a popular choice for programming\n",
        "----> It is easy to learn, we can visualize the data, python is simple to\n",
        "     understand, versatality, we can also import packages,modules, python is more flexible, we can also run python programs on various platforms\n",
        "#2) Describe the role of predefined keywords in Python and provide examples of how they are used in a program\n",
        "--> they are used to perform logical operations, exception handling,they are also used for iterative sequence,def- is used to define a function, class is used to define a class, the boolean keywords can be used for true and false\n",
        "the predefined keywords are- true,false,none,and,if,elif,else,import,or,try,while etc\n"
      ],
      "metadata": {
        "id": "01mLq2A7q2e4"
      }
    },
    {
      "cell_type": "code",
      "source": [
        "number= 10\n",
        "if number>0:\n",
        "  print(\"positive\")\n",
        "else :\n",
        "  print(\"negative\")"
      ],
      "metadata": {
        "colab": {
          "base_uri": "https://localhost:8080/"
        },
        "id": "0aJoTDgItVDh",
        "outputId": "fa7f8794-224a-4156-b327-799fc82fbe9b"
      },
      "execution_count": null,
      "outputs": [
        {
          "output_type": "stream",
          "name": "stdout",
          "text": [
            "positive\n"
          ]
        }
      ]
    },
    {
      "cell_type": "code",
      "source": [
        "a= False\n",
        "a"
      ],
      "metadata": {
        "colab": {
          "base_uri": "https://localhost:8080/"
        },
        "id": "TiH92vxOuydo",
        "outputId": "0e8170fc-7ebe-499b-a072-1b9225cfb1ce"
      },
      "execution_count": null,
      "outputs": [
        {
          "output_type": "execute_result",
          "data": {
            "text/plain": [
              "False"
            ]
          },
          "metadata": {},
          "execution_count": 3
        }
      ]
    },
    {
      "cell_type": "code",
      "source": [
        "b= True\n",
        "if b:\n",
        "  print(\"b is True\")"
      ],
      "metadata": {
        "colab": {
          "base_uri": "https://localhost:8080/"
        },
        "id": "4_R6eu-Yv5C_",
        "outputId": "3e1d922a-bebf-44ce-8ee7-bbcdf8fae0fc"
      },
      "execution_count": null,
      "outputs": [
        {
          "output_type": "stream",
          "name": "stdout",
          "text": [
            "b is True\n"
          ]
        }
      ]
    },
    {
      "cell_type": "code",
      "source": [
        "x=2\n",
        "y=5\n",
        "if x > 3 or y < 10:\n",
        "  print(\"atleast one condidtion is true\")"
      ],
      "metadata": {
        "colab": {
          "base_uri": "https://localhost:8080/"
        },
        "id": "uV7ns0B3wJfo",
        "outputId": "8ce42c41-d6ee-4b45-8790-62c130ee766a"
      },
      "execution_count": null,
      "outputs": [
        {
          "output_type": "stream",
          "name": "stdout",
          "text": [
            "atleast one condidtion is true\n"
          ]
        }
      ]
    },
    {
      "cell_type": "code",
      "source": [
        "x=5\n",
        "y=2\n",
        "if x >3 and y < 10:\n",
        "  print(\"both conditions are true\")\n",
        "else:\n",
        "  print(\"both are false\")"
      ],
      "metadata": {
        "colab": {
          "base_uri": "https://localhost:8080/"
        },
        "id": "mLyCHKWTwr3B",
        "outputId": "623a104f-dd94-4e8d-c1cb-ecf7d6e7e533"
      },
      "execution_count": null,
      "outputs": [
        {
          "output_type": "stream",
          "name": "stdout",
          "text": [
            "both conditions are true\n"
          ]
        }
      ]
    },
    {
      "cell_type": "markdown",
      "source": [
        "# 3)Compare and contrast mutable and immutable objects in Python with examples\n",
        "MUTABLE:\n",
        " *  We can change the value of object after creation\n",
        " * this allows modification after creation\n",
        " * example: list,dictionaries\n",
        "\n",
        "IMMUTABLE:\n",
        "  * we cannt change the value after creation\n",
        "  * this does not allows any modification after creation\n",
        "  *ex: tuples,strings\n",
        "  we get error if we try to run it\n"
      ],
      "metadata": {
        "id": "MBLRlfBaxQ7W"
      }
    },
    {
      "cell_type": "code",
      "source": [
        "#for mutable\n",
        "\n",
        "my_list = [1,2,3]\n",
        "my_list[0] =10\n",
        "my_list.append(4)\n",
        "print(my_list)"
      ],
      "metadata": {
        "colab": {
          "base_uri": "https://localhost:8080/"
        },
        "id": "VjflkUu6y0Ey",
        "outputId": "85f7dfcc-fb9e-43f6-8187-4c460b04a7a0"
      },
      "execution_count": null,
      "outputs": [
        {
          "output_type": "stream",
          "name": "stdout",
          "text": [
            "[10, 2, 3, 4]\n"
          ]
        }
      ]
    },
    {
      "cell_type": "code",
      "source": [
        "# for immutable\n",
        "\"\" we will not be able to append\"\"\n",
        "my_tuple= (1,2,3)\n",
        "my_tuple[0]=10\n",
        "my_tuple.append(4)\n",
        "print(my_tuple)"
      ],
      "metadata": {
        "colab": {
          "base_uri": "https://localhost:8080/",
          "height": 110
        },
        "id": "tGYGlvRbzPCF",
        "outputId": "c57519d7-26f0-4280-82cd-dce9833f3102"
      },
      "execution_count": null,
      "outputs": [
        {
          "output_type": "error",
          "ename": "SyntaxError",
          "evalue": "invalid syntax (<ipython-input-11-e2da941d557a>, line 2)",
          "traceback": [
            "\u001b[0;36m  File \u001b[0;32m\"<ipython-input-11-e2da941d557a>\"\u001b[0;36m, line \u001b[0;32m2\u001b[0m\n\u001b[0;31m    \"\" we will not be able to append\"\"\u001b[0m\n\u001b[0m       ^\u001b[0m\n\u001b[0;31mSyntaxError\u001b[0m\u001b[0;31m:\u001b[0m invalid syntax\n"
          ]
        }
      ]
    },
    {
      "cell_type": "markdown",
      "source": [
        "# 4) Discuss the different types of operators in Python and provide examples of how they are used\n",
        "\n",
        "1)arithmetic operators(+,-,,/,//,%,*,**): these are used to to basic operations like add,sub,mul,divide,exponential\n",
        "\n",
        "2)comparision operator(==,!=,>,<,>=,<=)\n",
        "this will compare two values and gives true or false\n",
        "\n",
        "3)logical operator( and or not)\n",
        "  AND:it is true only if both the operands are true\n",
        "  OR: it is true if any of the operator is true\n",
        "  NOT: true if operand is false and false if operand is true\n",
        "\n",
        "4) Bit wise operator(&,/,^,<<,>>,~)\n",
        "  they are the strings of binary digits\n",
        "\n",
        "5) Assignment operator(+=,-=,*=,/=,%=,**=,//=)\\\n",
        "  these are used to assign values to variables\n",
        "\n",
        "6) membership operator (in,not in)\n",
        "they are used to check the variable is present in the assigned value\n",
        "\n",
        "7) identity operator\n",
        "(is,isnott)"
      ],
      "metadata": {
        "id": "3MiEhNm01Xto"
      }
    },
    {
      "cell_type": "markdown",
      "source": [],
      "metadata": {
        "id": "wLjZkKyZogu4"
      }
    },
    {
      "cell_type": "code",
      "source": [
        "# arithemetic operator\n",
        "a=5\n",
        "b=10\n",
        "print(a+b)\n",
        "print(a-b)\n",
        "print(a*b)\n",
        "print(a/b)\n",
        "print(a//b)\n",
        "print(a%b)\n",
        "print(a**b)\n",
        "#comparision operator\n",
        "a==b\n",
        "a!=b\n",
        "a>b\n",
        "a<b\n",
        "a>=b\n",
        "a<=b\n",
        "#logical operator\n",
        "print(True and True)\n",
        "print(False or True)\n",
        "print(not True)\n",
        "# bitwise operator\n",
        "print(a&b)\n",
        "print(a|b)\n",
        "print(a^b)\n",
        "print(a<<b)\n",
        "print(a>>b)\n",
        "print(~a)\n",
        "#assignment operator\n",
        "a+=b\n",
        "a-=b\n",
        "a*=b\n",
        "a/=b\n",
        "a//=b\n",
        "a%=b\n",
        "a**=b\n",
        "#membership operators\n",
        "a=(\"knowledge\")\n",
        "print(\"knowledge\" in a)\n",
        "print(\"knowledge\" not in a)\n",
        "#identity operator\n",
        "print(a is b)\n",
        "print(a is not b)"
      ],
      "metadata": {
        "colab": {
          "base_uri": "https://localhost:8080/"
        },
        "id": "tHIRhc9WoIEu",
        "outputId": "896672fd-f992-402b-f447-2aba1f03a8b7"
      },
      "execution_count": null,
      "outputs": [
        {
          "output_type": "stream",
          "name": "stdout",
          "text": [
            "15\n",
            "-5\n",
            "50\n",
            "0.5\n",
            "0\n",
            "5\n",
            "9765625\n",
            "True\n",
            "True\n",
            "False\n",
            "0\n",
            "15\n",
            "15\n",
            "5120\n",
            "0\n",
            "-6\n",
            "True\n",
            "False\n",
            "False\n",
            "True\n"
          ]
        }
      ]
    },
    {
      "cell_type": "markdown",
      "source": [
        "# 5)Explain the concept of type casting in Python with examples\n",
        " Type casting means converting one data typen into another datatype\n",
        " like int() is converted into float, and other ways\n",
        "  * the functions used are\n",
        "    1. int()- used to convert into integer\n",
        "    2. float()- used to convert into float\n",
        "    3. str() - used to convert into string\n",
        "    4. list(),tuple(),set()"
      ],
      "metadata": {
        "id": "ajcVnkrttTt3"
      }
    },
    {
      "cell_type": "code",
      "source": [
        "#using float()\n",
        "a=10\n",
        "b=float(a)\n",
        "print(b)\n",
        "#using of int()\n",
        "a=2.0\n",
        "b=int(a)\n",
        "print(b)\n",
        "#using string\n",
        "a=(24)\n",
        "text=str(a)\n",
        "print(text)\n",
        "print(type(text))\n"
      ],
      "metadata": {
        "colab": {
          "base_uri": "https://localhost:8080/"
        },
        "id": "qAcjeRTDur2c",
        "outputId": "393219ac-d329-40f0-e22f-175e9ed1101d"
      },
      "execution_count": null,
      "outputs": [
        {
          "output_type": "stream",
          "name": "stdout",
          "text": [
            "10.0\n",
            "2\n",
            "24\n",
            "<class 'str'>\n"
          ]
        }
      ]
    },
    {
      "cell_type": "markdown",
      "source": [
        "\n",
        "# 6)How do conditional statements work in Python? Illustrate with examples\n",
        "  they are used to make decisions and we can run different blocks of code in a single code with the help of conditionals\n",
        "\n",
        "  * the conditional statements are \"if\",\"if-else\",if-elif-else\"\n",
        "\n",
        "  if is used only if condition is true\n",
        "  \n",
        "  else is used to add alternative block\n",
        "\n",
        "  if-elif-else\n",
        "   is used to add multiple conditional statements in a single code\n"
      ],
      "metadata": {
        "id": "95tU95fyv7fy"
      }
    },
    {
      "cell_type": "code",
      "source": [
        "a=10\n",
        "if a>20:\n",
        "  print(\"a is greater than 20\")\n",
        "elif a>5:\n",
        "  print(\"a is greater than 5\")\n",
        "else:\n",
        "  print(\"a is less than 5\")"
      ],
      "metadata": {
        "colab": {
          "base_uri": "https://localhost:8080/"
        },
        "id": "HqUPs50yxDo9",
        "outputId": "c9a88db4-e9ca-4e8d-fd13-71ac6497a0da"
      },
      "execution_count": null,
      "outputs": [
        {
          "output_type": "stream",
          "name": "stdout",
          "text": [
            "a is greater than 5\n"
          ]
        }
      ]
    },
    {
      "cell_type": "markdown",
      "source": [
        "# 7) Describe the different types of loops in Python and their use cases with examples.\n",
        " 1) for loop:\n",
        "         \n",
        "         used to iterate\n",
        "2) while loop:\n",
        "\n",
        "            it will repeat and run as long as the condition is true\n",
        "            \n",
        "          "
      ],
      "metadata": {
        "id": "INC0nDnIxa6L"
      }
    },
    {
      "cell_type": "code",
      "source": [
        "# for loop\n",
        "for i in range(10):\n",
        "  print(i)\n",
        "# while loop\n",
        "i=0\n",
        "while i<15:\n",
        "  print(i)\n",
        "  i+= 2"
      ],
      "metadata": {
        "colab": {
          "base_uri": "https://localhost:8080/"
        },
        "id": "i6-pWoXzyNGs",
        "outputId": "3536abbd-fbcd-4c34-e598-fc5c6c2f1386"
      },
      "execution_count": null,
      "outputs": [
        {
          "output_type": "stream",
          "name": "stdout",
          "text": [
            "0\n",
            "1\n",
            "2\n",
            "3\n",
            "4\n",
            "5\n",
            "6\n",
            "7\n",
            "8\n",
            "9\n",
            "0\n",
            "2\n",
            "4\n",
            "6\n",
            "8\n",
            "10\n",
            "12\n",
            "14\n"
          ]
        }
      ]
    },
    {
      "cell_type": "code",
      "source": [],
      "metadata": {
        "id": "GxrrIjGZyXCq"
      },
      "execution_count": null,
      "outputs": []
    }
  ]
}